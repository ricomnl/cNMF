{
 "cells": [
  {
   "cell_type": "markdown",
   "metadata": {},
   "source": [
    "## Example code to illustrate the API for cNMF on simulated data\n",
    "\n",
    " - Current as of June 23, 2022\n",
    " - Email dkotliar@broadinstitute.org with questions\n",
    "\n",
    "## The code below illustrates cNMF using the python class interface. For the command line version, see the PBMC tutorial\n",
    "\n",
    "## The code below by default does not use any parallelization but provides example commands for using parallel or a UGER scheduler for running the factorization in parallel"
   ]
  },
  {
   "cell_type": "code",
   "execution_count": 1,
   "metadata": {},
   "outputs": [],
   "source": [
    "%load_ext autoreload\n",
    "%autoreload 2\n",
    "%matplotlib inline"
   ]
  },
  {
   "cell_type": "code",
   "execution_count": 2,
   "metadata": {},
   "outputs": [],
   "source": [
    "import pandas as pd\n",
    "import numpy as np\n",
    "import matplotlib.pyplot as plt\n",
    "from IPython.display import Image\n",
    "from matplotlib import gridspec\n",
    "from cnmf import cNMF"
   ]
  },
  {
   "cell_type": "markdown",
   "metadata": {},
   "source": [
    "## Download the example data from the web"
   ]
  },
  {
   "cell_type": "code",
   "execution_count": 3,
   "metadata": {},
   "outputs": [
    {
     "name": "stdout",
     "output_type": "stream",
     "text": [
      "--2022-08-16 16:52:36--  https://storage.googleapis.com/sabeti-public/dkotliar/cNMF/example_data_20191024.tar.gz\n",
      "Resolving storage.googleapis.com (storage.googleapis.com)... 142.250.188.16, 142.251.32.48, 142.251.46.176, ...\n",
      "Connecting to storage.googleapis.com (storage.googleapis.com)|142.250.188.16|:443... connected.\n",
      "HTTP request sent, awaiting response... 200 OK\n",
      "Length: 8115726 (7.7M) [application/gzip]\n",
      "Saving to: ‘./example_simulated_data.tar.gz’\n",
      "\n",
      "./example_simulated 100%[===================>]   7.74M  11.7MB/s    in 0.7s    \n",
      "\n",
      "2022-08-16 16:52:37 (11.7 MB/s) - ‘./example_simulated_data.tar.gz’ saved [8115726/8115726]\n",
      "\n",
      "x ./simulated_example_data/counts.npz\n",
      "x ./simulated_example_data/filtered_counts.txt\n",
      "x ./simulated_example_data/groundtruth_cellparams.txt\n",
      "x ./simulated_example_data/groundtruth_geneparams.txt\n",
      "x ./simulated_example_data/tsne.txt\n"
     ]
    }
   ],
   "source": [
    "! wget -O ./example_simulated_data.tar.gz https://storage.googleapis.com/sabeti-public/dkotliar/cNMF/example_data_20191024.tar.gz\n",
    "! tar -zxvf ./example_simulated_data.tar.gz && rm ./example_simulated_data.tar.gz"
   ]
  },
  {
   "cell_type": "markdown",
   "metadata": {},
   "source": [
    "## cNMF run parameters"
   ]
  },
  {
   "cell_type": "code",
   "execution_count": 4,
   "metadata": {},
   "outputs": [],
   "source": [
    "numiter=20 ## Set this to a larger value for real data. We set this to a low value here for illustration\n",
    "numworkers=1 ## Set this to a larger value and use the parallel code cells to try out parallelization\n",
    "numhvgenes=1500 ## Number of over-dispersed genes to use for running the factorizations\n",
    "K = np.arange(5,10)\n",
    "\n",
    "## Results will be saved to [output_directory]/[run_name] which in this example is simulated_example_data/example_cNMF\n",
    "output_directory = './simulated_example_data'\n",
    "run_name = 'example_cNMF'\n",
    "\n",
    "countfn = './simulated_example_data/filtered_counts.txt'\n",
    "seed = 14"
   ]
  },
  {
   "cell_type": "code",
   "execution_count": 5,
   "metadata": {},
   "outputs": [
    {
     "name": "stdout",
     "output_type": "stream",
     "text": [
      "[5 6 7 8 9]\n"
     ]
    }
   ],
   "source": [
    "print(K)"
   ]
  },
  {
   "cell_type": "markdown",
   "metadata": {},
   "source": [
    "## Prepare the normalized count matrix of highvar genes and the cNMF parameters file assuming no parallelization\n",
    " - This will normalize the counts matrix and select the 2000 most over-dispersed genes for running cNMF on.\n",
    " - It indicates that it will run 5 NMF iterations each for K=4, 5, 6, 7, and 8. With one worker"
   ]
  },
  {
   "cell_type": "code",
   "execution_count": 98,
   "metadata": {},
   "outputs": [],
   "source": [
    "cnmf_obj = cNMF(output_dir=output_directory, name=run_name)"
   ]
  },
  {
   "cell_type": "code",
   "execution_count": 99,
   "metadata": {},
   "outputs": [
    {
     "name": "stderr",
     "output_type": "stream",
     "text": [
      "/Users/ricomeinl/Desktop/retro/cNMF/src/cnmf/cnmf.py:442: FutureWarning: X.dtype being converted to np.float32 from int64. In the next version of anndata (0.9) conversion will not be automatic. Pass dtype explicitly to avoid this warning. Pass `AnnData(X, dtype=X.dtype, ...)` to get the future behavour.\n",
      "  input_counts = sc.AnnData(\n",
      "/Users/ricomeinl/miniconda3/envs/cnmf/lib/python3.10/site-packages/scanpy/preprocessing/_simple.py:843: UserWarning: Received a view of an AnnData. Making a copy.\n",
      "  view_to_actual(adata)\n"
     ]
    }
   ],
   "source": [
    "cnmf_obj.prepare(\n",
    "    counts_fn=countfn, \n",
    "    components=K, \n",
    "    n_iter=numiter, \n",
    "    l1_ratio=1.0,\n",
    "    beta_loss='frobenius',\n",
    "    seed=seed, \n",
    "    num_highvar_genes=numhvgenes,\n",
    ")"
   ]
  },
  {
   "cell_type": "markdown",
   "metadata": {},
   "source": [
    "## Run the factorization step of cNMF without any parallelization\n",
    "\n",
    "This might take a few minutes to a half hour depending on how many cores there are on your machine.  You can lower the number of iterations or the K values being considered to speed this up.\n",
    "\n",
    "As some more explanation, all of the factorization tasks were allocated in the prepare step above to a single worker (worker # 0). We are now executing the factorization steps for that single worker.\n",
    "\n",
    "In our testing, this took less than a minute to run"
   ]
  },
  {
   "cell_type": "code",
   "execution_count": 95,
   "metadata": {},
   "outputs": [
    {
     "name": "stdout",
     "output_type": "stream",
     "text": [
      "[Worker 0]. Starting task 0.\n",
      "[Worker 0]. Starting task 1.\n",
      "[Worker 0]. Starting task 2.\n",
      "[Worker 0]. Starting task 3.\n",
      "[Worker 0]. Starting task 4.\n",
      "[Worker 0]. Starting task 5.\n",
      "[Worker 0]. Starting task 6.\n",
      "[Worker 0]. Starting task 7.\n",
      "[Worker 0]. Starting task 8.\n",
      "[Worker 0]. Starting task 9.\n",
      "[Worker 0]. Starting task 10.\n",
      "[Worker 0]. Starting task 11.\n",
      "[Worker 0]. Starting task 12.\n",
      "[Worker 0]. Starting task 13.\n",
      "[Worker 0]. Starting task 14.\n",
      "[Worker 0]. Starting task 15.\n",
      "[Worker 0]. Starting task 16.\n",
      "[Worker 0]. Starting task 17.\n",
      "[Worker 0]. Starting task 18.\n",
      "[Worker 0]. Starting task 19.\n",
      "[Worker 0]. Starting task 20.\n",
      "[Worker 0]. Starting task 21.\n",
      "[Worker 0]. Starting task 22.\n",
      "[Worker 0]. Starting task 23.\n",
      "[Worker 0]. Starting task 24.\n",
      "[Worker 0]. Starting task 25.\n",
      "[Worker 0]. Starting task 26.\n",
      "[Worker 0]. Starting task 27.\n",
      "[Worker 0]. Starting task 28.\n",
      "[Worker 0]. Starting task 29.\n",
      "[Worker 0]. Starting task 30.\n",
      "[Worker 0]. Starting task 31.\n",
      "[Worker 0]. Starting task 32.\n",
      "[Worker 0]. Starting task 33.\n",
      "[Worker 0]. Starting task 34.\n",
      "[Worker 0]. Starting task 35.\n",
      "[Worker 0]. Starting task 36.\n",
      "[Worker 0]. Starting task 37.\n",
      "[Worker 0]. Starting task 38.\n",
      "[Worker 0]. Starting task 39.\n",
      "[Worker 0]. Starting task 40.\n",
      "[Worker 0]. Starting task 41.\n",
      "[Worker 0]. Starting task 42.\n",
      "[Worker 0]. Starting task 43.\n",
      "[Worker 0]. Starting task 44.\n",
      "[Worker 0]. Starting task 45.\n",
      "[Worker 0]. Starting task 46.\n",
      "[Worker 0]. Starting task 47.\n",
      "[Worker 0]. Starting task 48.\n",
      "[Worker 0]. Starting task 49.\n",
      "[Worker 0]. Starting task 50.\n",
      "[Worker 0]. Starting task 51.\n",
      "[Worker 0]. Starting task 52.\n",
      "[Worker 0]. Starting task 53.\n",
      "[Worker 0]. Starting task 54.\n",
      "[Worker 0]. Starting task 55.\n",
      "[Worker 0]. Starting task 56.\n",
      "[Worker 0]. Starting task 57.\n",
      "[Worker 0]. Starting task 58.\n",
      "[Worker 0]. Starting task 59.\n",
      "[Worker 0]. Starting task 60.\n",
      "[Worker 0]. Starting task 61.\n",
      "[Worker 0]. Starting task 62.\n",
      "[Worker 0]. Starting task 63.\n",
      "[Worker 0]. Starting task 64.\n",
      "[Worker 0]. Starting task 65.\n",
      "[Worker 0]. Starting task 66.\n",
      "[Worker 0]. Starting task 67.\n",
      "[Worker 0]. Starting task 68.\n",
      "[Worker 0]. Starting task 69.\n",
      "[Worker 0]. Starting task 70.\n",
      "[Worker 0]. Starting task 71.\n",
      "[Worker 0]. Starting task 72.\n",
      "[Worker 0]. Starting task 73.\n",
      "[Worker 0]. Starting task 74.\n",
      "[Worker 0]. Starting task 75.\n",
      "[Worker 0]. Starting task 76.\n",
      "[Worker 0]. Starting task 77.\n",
      "[Worker 0]. Starting task 78.\n",
      "[Worker 0]. Starting task 79.\n",
      "[Worker 0]. Starting task 80.\n",
      "[Worker 0]. Starting task 81.\n",
      "[Worker 0]. Starting task 82.\n",
      "[Worker 0]. Starting task 83.\n",
      "[Worker 0]. Starting task 84.\n",
      "[Worker 0]. Starting task 85.\n",
      "[Worker 0]. Starting task 86.\n",
      "[Worker 0]. Starting task 87.\n",
      "[Worker 0]. Starting task 88.\n",
      "[Worker 0]. Starting task 89.\n",
      "[Worker 0]. Starting task 90.\n",
      "[Worker 0]. Starting task 91.\n",
      "[Worker 0]. Starting task 92.\n",
      "[Worker 0]. Starting task 93.\n",
      "[Worker 0]. Starting task 94.\n",
      "[Worker 0]. Starting task 95.\n",
      "[Worker 0]. Starting task 96.\n",
      "[Worker 0]. Starting task 97.\n",
      "[Worker 0]. Starting task 98.\n",
      "[Worker 0]. Starting task 99.\n"
     ]
    }
   ],
   "source": [
    "cnmf_obj.factorize()"
   ]
  },
  {
   "cell_type": "markdown",
   "metadata": {},
   "source": [
    "## Combine the replicate spectra into merged spectra files\n",
    "\n",
    "Now that the individual factorization replicates have been run, we need to combine them into a single file for each value of K tested"
   ]
  },
  {
   "cell_type": "code",
   "execution_count": 101,
   "metadata": {},
   "outputs": [
    {
     "name": "stdout",
     "output_type": "stream",
     "text": [
      "Combining spectra factorizations for k=5.\n",
      "Combining usages factorizations for k=5.\n",
      "Combining spectra factorizations for k=6.\n",
      "Combining usages factorizations for k=6.\n",
      "Combining spectra factorizations for k=7.\n",
      "Combining usages factorizations for k=7.\n",
      "Combining spectra factorizations for k=8.\n",
      "Combining usages factorizations for k=8.\n",
      "Combining spectra factorizations for k=9.\n",
      "Combining usages factorizations for k=9.\n"
     ]
    }
   ],
   "source": [
    "cnmf_obj.combine()"
   ]
  },
  {
   "cell_type": "markdown",
   "metadata": {},
   "source": [
    "## Plot the trade-off between error and stability as a function of K to guide selection of K \n",
    "\n",
    "There is no perfect way to choose the value of K for cNMF or for any matrix factorization or clustering algorithm. One approach that can be helpful is to plot the trade-off between solution stability and solution error. We can plot that with the command below"
   ]
  },
  {
   "cell_type": "code",
   "execution_count": 102,
   "metadata": {},
   "outputs": [
    {
     "data": {
      "image/png": "[encoded data removed]",
      "text/plain": [
       "<Figure size 432x288 with 2 Axes>"
      ]
     },
     "metadata": {
      "needs_background": "light"
     },
     "output_type": "display_data"
    },
    {
     "data": {
      "image/png": "[encoded data removed]",
      "text/plain": [
       "<Figure size 432x288 with 2 Axes>"
      ]
     },
     "metadata": {
      "needs_background": "light"
     },
     "output_type": "display_data"
    }
   ],
   "source": [
    "cnmf_obj.k_selection_plot()"
   ]
  },
  {
   "cell_type": "markdown",
   "metadata": {},
   "source": [
    "### The plot was just saved to ./simulated_example_data/example_cNMF/example_cNMF.k_selection.pdf"
   ]
  },
  {
   "cell_type": "markdown",
   "metadata": {},
   "source": [
    "Based on the above plot, we would be interested in investigating Ks around K=7 as a starting point as these are values where the stability has plateaued."
   ]
  },
  {
   "cell_type": "markdown",
   "metadata": {},
   "source": [
    "## We proceed to obtain the consensus matrix factorization estimates\n",
    "\n",
    "We first look at how the results look without filtering and then set a threshold for filtering outliers based on the consensus clustergram"
   ]
  },
  {
   "cell_type": "code",
   "execution_count": 103,
   "metadata": {},
   "outputs": [],
   "source": [
    "selected_K = 7"
   ]
  },
  {
   "cell_type": "code",
   "execution_count": 104,
   "metadata": {},
   "outputs": [
    {
     "name": "stderr",
     "output_type": "stream",
     "text": [
      "/Users/ricomeinl/miniconda3/envs/cnmf/lib/python3.10/site-packages/scanpy/preprocessing/_simple.py:843: UserWarning: Received a view of an AnnData. Making a copy.\n",
      "  view_to_actual(adata)\n"
     ]
    },
    {
     "data": {
      "image/png": "[encoded data removed]",
      "text/plain": [
       "<Figure size 1080x684 with 5 Axes>"
      ]
     },
     "metadata": {
      "needs_background": "light"
     },
     "output_type": "display_data"
    }
   ],
   "source": [
    "## Setting density_threshold to 2.0 avoids any filtering\n",
    "cnmf_obj.consensus(k=selected_K, density_threshold=2.0, show_clustering=True)"
   ]
  },
  {
   "cell_type": "markdown",
   "metadata": {},
   "source": [
    "This looks reasonable. We are finding 7 clusters as expected. In this case, there aren't any noisey outlier components to filter before clustering. However, in general there will be and we would filter them out by setting a threshold on the local density histogram. For example, you could set a threshold of 0.1 like below"
   ]
  },
  {
   "cell_type": "code",
   "execution_count": 105,
   "metadata": {},
   "outputs": [
    {
     "name": "stderr",
     "output_type": "stream",
     "text": [
      "/Users/ricomeinl/miniconda3/envs/cnmf/lib/python3.10/site-packages/scanpy/preprocessing/_simple.py:843: UserWarning: Received a view of an AnnData. Making a copy.\n",
      "  view_to_actual(adata)\n"
     ]
    },
    {
     "data": {
      "image/png": "[encoded data removed]",
      "text/plain": [
       "<Figure size 1080x684 with 5 Axes>"
      ]
     },
     "metadata": {
      "needs_background": "light"
     },
     "output_type": "display_data"
    }
   ],
   "source": [
    "cnmf_obj.consensus(k=selected_K, density_threshold=0.1, show_clustering=True)"
   ]
  },
  {
   "cell_type": "code",
   "execution_count": 106,
   "metadata": {},
   "outputs": [],
   "source": [
    "### The plots were just saved to example_cNMF.clustering.k_7.dt_2_0.png and example_cNMF.clustering.k_7.dt_0_1.png"
   ]
  },
  {
   "cell_type": "code",
   "execution_count": 107,
   "metadata": {},
   "outputs": [
    {
     "name": "stdout",
     "output_type": "stream",
     "text": [
      "\u001b[34mcnmf_tmp\u001b[m\u001b[m\n",
      "example_cNMF.clustering.k_7.dt_0_1.png\n",
      "example_cNMF.clustering.k_7.dt_2_0.png\n",
      "example_cNMF.gene_spectra_score.k_7.dt_0_1.txt\n",
      "example_cNMF.gene_spectra_score.k_7.dt_2_0.txt\n",
      "example_cNMF.gene_spectra_tpm.k_7.dt_0_1.txt\n",
      "example_cNMF.gene_spectra_tpm.k_7.dt_2_0.txt\n",
      "example_cNMF.k_selection_program.png\n",
      "example_cNMF.k_selection_stats.df.npz\n",
      "example_cNMF.k_selection_usages.png\n",
      "example_cNMF.overdispersed_genes.txt\n",
      "example_cNMF.spectra.k_7.dt_0_1.consensus.txt\n",
      "example_cNMF.spectra.k_7.dt_2_0.consensus.txt\n",
      "example_cNMF.usages.k_7.dt_0_1.consensus.txt\n",
      "example_cNMF.usages.k_7.dt_2_0.consensus.txt\n"
     ]
    }
   ],
   "source": [
    "! ls simulated_example_data/example_cNMF"
   ]
  },
  {
   "cell_type": "markdown",
   "metadata": {},
   "source": [
    "### Our intended final results files are:\n",
    "\n",
    " - example_cNMF.gene_spectra_score.k_6.dt_0_40.txt\n",
    " - example_cNMF.gene_spectra_tpm.k_6.dt_0_40.txt\n",
    " - example_cNMF.usages.k_6.dt_0_40.consensus.txt\n",
    " \n",
    "The first 2 contain the GEPs re-fit to all of the genes either in units of tpm (example_cNMF.gene_spectra_tpm.k_6.dt_0_40.txt) or in Z-score units (example_cNMF.gene_spectra_score.k_6.dt_0_40.txt). The usage matrix is (example_cNMF.usages.k_6.dt_0_40.consensus.txt)"
   ]
  },
  {
   "cell_type": "markdown",
   "metadata": {},
   "source": [
    "## Now lets make a few plots to illustrate the results"
   ]
  },
  {
   "cell_type": "markdown",
   "metadata": {},
   "source": [
    "### Run PCA on high-var genes TPM normalized\n",
    "\n",
    "This step can be skipped if you want to just load the pre-generated tsne results in ./simulated_example_data/tsne.txt"
   ]
  },
  {
   "cell_type": "raw",
   "metadata": {},
   "source": [
    "from bhtsne import tsne\n",
    "spectra_hvgs = pd.read_csv('./simulated_example_data/example_cNMF/example_cNMF.spectra.k_%d.dt_%s.consensus.txt' % (selected_K, density_threshold_fn), sep='\\t', index_col=0)\n",
    "spectra_hvgs.head()\n",
    "\n",
    "TPM = load_df_from_npz('./simulated_example_data/example_cNMF/cnmf_tmp/example_cNMF.tpm.df.npz') ## This is the TPM (transcripts per million normalized) file that was saved as an intermediate\n",
    "TPM.head()\n",
    "\n",
    "TPM_hvgs = TPM.loc[:, spectra_hvgs.columns] ## Subset only our list of highvar genes\n",
    "\n",
    "## And run PCA\n",
    "PCs = PCA(n_components=10).fit_transform(preprocessing.scale(TPM_hvgs))\n",
    "PCs = pd.DataFrame(PCs, index=TPM_hvgs.index, columns=['PC%d' % i for i in range(1,11)])\n",
    "PCs.head()\n",
    "\n",
    "## And run tSNE\n",
    "tsne_results = pd.DataFrame(tsne(PCs.values), index=PCs.index, columns=['TSNE1', 'TSNE2'])\n",
    "tsne_results.to_csv('./simulated_example_data/tsne.txt', sep='\\t')"
   ]
  },
  {
   "cell_type": "markdown",
   "metadata": {},
   "source": [
    "## We can load normalized usages, spectra, and a list of top genes directly from our cnmf object like so"
   ]
  },
  {
   "cell_type": "code",
   "execution_count": 108,
   "metadata": {},
   "outputs": [],
   "source": [
    "normalized_usage_matrix, gep_scores, gep_tpm, topgenes = cnmf_obj.load_results(K=selected_K, density_threshold=0.1)"
   ]
  },
  {
   "cell_type": "markdown",
   "metadata": {},
   "source": [
    "## Mean cellscore fraction"
   ]
  },
  {
   "cell_type": "code",
   "execution_count": 109,
   "metadata": {},
   "outputs": [],
   "source": [
    "def mean_cellscore_fraction(usages, ntop_factors=1):\n",
    "    \"\"\" Get number of cells with a percentage of their total scores\n",
    "    on a small number of factors\n",
    "\n",
    "    Parameters\n",
    "    ----------\n",
    "    usages : ndarray\n",
    "        (ncells, nfactors) array of cell scores\n",
    "    ntop_factors : int, optional (Default: 1)\n",
    "        number of factors that can count towards domance\n",
    "\n",
    "    Returns\n",
    "    -------\n",
    "    mean_cellscore_fraction : float\n",
    "        The mean fraction of cells' scores that are contained within\n",
    "        their top `ntop_factors` highest scoring factors\n",
    "\n",
    "    \"\"\"\n",
    "    totals = np.sum(usages, axis=1)\n",
    "    ntop_scores = np.sort(usages, axis=1)[:, -ntop_factors:]\n",
    "    domsum = np.sum(ntop_scores, axis=1)\n",
    "    domfrac = domsum/totals\n",
    "    return np.mean(domfrac)\n",
    "\n",
    "\n",
    "def mean_cellscore_fraction_list(usages):\n",
    "    \"\"\" Make a list of the mean dominant fraction at all possible numbers\n",
    "        of ntop_factors\n",
    "    \"\"\"\n",
    "    return [mean_cellscore_fraction(usages, i+1)\n",
    "                for i in range(usages.shape[1])]"
   ]
  },
  {
   "cell_type": "code",
   "execution_count": 20,
   "metadata": {},
   "outputs": [
    {
     "data": {
      "text/plain": [
       "[0.6908590678269151,\n",
       " 0.8237300016236142,\n",
       " 0.8897147792105145,\n",
       " 0.9356090211903378,\n",
       " 0.968080595543539,\n",
       " 0.9892584674148196,\n",
       " 1.0]"
      ]
     },
     "execution_count": 20,
     "metadata": {},
     "output_type": "execute_result"
    }
   ],
   "source": [
    "mean_cellscore_fraction_list(normalized_usage_matrix)"
   ]
  },
  {
   "cell_type": "code",
   "execution_count": 49,
   "metadata": {},
   "outputs": [
    {
     "name": "stdout",
     "output_type": "stream",
     "text": [
      "0.023934425978485364\n",
      "0.026192300498374847\n",
      "0.024748017557554697\n",
      "0.02759934482163961\n",
      "0.02820139112587496\n",
      "0.0295701635173547\n",
      "0.022457737591857124\n"
     ]
    }
   ],
   "source": [
    "topn = 50\n",
    "\n",
    "for i in range(len(gep_scores.columns)):\n",
    "    min_zero = gep_scores.iloc[:, i].sort_values(ascending=False) - gep_scores.iloc[:, i].min() \n",
    "    print(min_zero.head(topn).sum() / min_zero.sum())"
   ]
  },
  {
   "cell_type": "markdown",
   "metadata": {},
   "source": [
    "## This is analogous to loading the files below with the exception that the Usage file contains per-cell usages that are not normalized to sum to 1 whereas the usage returned by load_results is normalized to sum to 1. Normalized usages are the default recommended for most users"
   ]
  },
  {
   "cell_type": "code",
   "execution_count": null,
   "metadata": {},
   "outputs": [],
   "source": [
    "usage_matrix_file = cnmf_obj.paths['consensus_usages__txt'] % (selected_K, '0_1')\n",
    "usage_matrix_file"
   ]
  },
  {
   "cell_type": "code",
   "execution_count": null,
   "metadata": {},
   "outputs": [],
   "source": [
    "gene_scores_file = cnmf_obj.paths['gene_spectra_score__txt'] % (selected_K, '0_1')\n",
    "gene_scores_file"
   ]
  },
  {
   "cell_type": "code",
   "execution_count": null,
   "metadata": {},
   "outputs": [],
   "source": [
    "gene_tpm_file = cnmf_obj.paths['gene_spectra_tpm__txt'] % (selected_K, '0_1')\n",
    "gene_tpm_file"
   ]
  },
  {
   "cell_type": "markdown",
   "metadata": {},
   "source": [
    "### We can then plot the ground truth as well as the cNMF inferences on a tSNE plot to visualize the accuracy of the inference"
   ]
  },
  {
   "cell_type": "code",
   "execution_count": null,
   "metadata": {},
   "outputs": [],
   "source": [
    "tsne_results = pd.read_csv('./simulated_example_data/tsne.txt', sep='\\t', index_col=0)\n",
    "tsne_results.head()"
   ]
  },
  {
   "cell_type": "code",
   "execution_count": null,
   "metadata": {},
   "outputs": [],
   "source": [
    "import palettable\n",
    "from matplotlib import rcParams\n",
    "from collections import Counter\n",
    "\n",
    "rcParams['font.family'] = 'sans-serif'\n",
    "rcParams['font.sans-serif'] = ['Myriad Pro']\n",
    "\n",
    "rcParams['axes.titlesize'] = 9\n",
    "rcParams['axes.labelsize'] = 9\n",
    "rcParams['xtick.labelsize'] = 7\n",
    "rcParams['ytick.labelsize'] = 7\n",
    "\n",
    "rcParams['xtick.major.pad']='1'\n",
    "rcParams['ytick.major.pad']='1'\n",
    "\n",
    "import matplotlib as mpl\n",
    "label_size = 8\n",
    "\n",
    "core_colors = type('CoreColors', (), {})\n",
    "\n",
    "cnames = ['red', 'blue', 'green', 'purple', 'orange', 'yellow', 'brown', 'pink', 'grey']\n",
    "\n",
    "def to_array_col(color):\n",
    "    return np.array(color)/255.\n",
    "\n",
    "for cname,c in zip(cnames, palettable.colorbrewer.qualitative.Set1_9.colors):\n",
    "    setattr(core_colors, cname, np.array(c)/255.)\n",
    "    \n",
    "for cname, c in zip(['blue', 'green', 'red', 'orange', 'purple'],\n",
    "                    palettable.colorbrewer.qualitative.Paired_10.colors[::2]):\n",
    "    setattr(core_colors, 'pale_'+cname, np.array(c)/255.)\n",
    "    \n",
    "core_colors.teal = to_array_col(palettable.colorbrewer.qualitative.Set2_3.colors[0])\n",
    "core_colors.brown_red = to_array_col(palettable.colorbrewer.qualitative.Dark2_3.colors[1])\n",
    "\n",
    "# core_colors.light_grey = to_array_col(palettable.colorbrewer.qualitative.Set2_8.colors[-1])\n",
    "core_colors.light_grey = to_array_col(palettable.tableau.TableauLight_10.colors[7])\n",
    "\n",
    "core_colors.royal_green = to_array_col(palettable.wesanderson.Royal1_4.colors[0])\n"
   ]
  },
  {
   "cell_type": "code",
   "execution_count": null,
   "metadata": {},
   "outputs": [],
   "source": [
    "celldata = pd.read_csv('./simulated_example_data/groundtruth_cellparams.txt', sep='\\t', index_col=0)\n",
    "celldata.head()"
   ]
  },
  {
   "cell_type": "code",
   "execution_count": null,
   "metadata": {},
   "outputs": [],
   "source": [
    "tsnedat = pd.merge(left=tsne_results, right=celldata, left_index=True, right_index=True)\n",
    "\n",
    "tsnedat['extra-status'] = 'Normal'\n",
    "tsnedat.loc[tsnedat['has_program'] & ~tsnedat['is_doublet'], 'extra-status'] = 'program'\n",
    "tsnedat.loc[~tsnedat['has_program'] & tsnedat['is_doublet'], 'extra-status'] = 'doublet'\n",
    "tsnedat.loc[ tsnedat['has_program'] & tsnedat['is_doublet'], 'extra-status'] = 'program & doublet'"
   ]
  },
  {
   "cell_type": "code",
   "execution_count": null,
   "metadata": {},
   "outputs": [],
   "source": [
    "cell_tableau10_color_id = tsnedat['group'].astype(int).values - 1\n",
    "cell_tableau10_color = np.array(palettable.tableau.Tableau_10.colors[:-1])[cell_tableau10_color_id]/255.\n",
    "\n",
    "activity_color = np.zeros((tsnedat.shape[0], 4))\n",
    "activity_color[:, 3] = tsnedat['has_program'].astype(float)\n",
    "doublet_color = np.array(palettable.tableau.TableauMedium_10.colors[5])/255. "
   ]
  },
  {
   "cell_type": "code",
   "execution_count": null,
   "metadata": {},
   "outputs": [],
   "source": [
    "normal_filter = tsnedat['extra-status'] == 'Normal'\n",
    "doublet_filter = tsnedat['extra-status'] == 'doublet'\n",
    "activity_filter = tsnedat['extra-status'] == 'program'\n",
    "activity_and_doublet_filter = tsnedat['extra-status'] == 'program & doublet'"
   ]
  },
  {
   "cell_type": "code",
   "execution_count": null,
   "metadata": {},
   "outputs": [],
   "source": [
    "identityK = 6\n",
    "fig = plt.figure(figsize=(1.5, 2), dpi=600)\n",
    "gs = gridspec.GridSpec(3, 1, fig, 0,0,1,1,\n",
    "                       hspace=0, wspace=0,\n",
    "                       height_ratios=[0.2, 1.5, 0.3],\n",
    "                       width_ratios=[1])\n",
    "\n",
    "ax = fig.add_subplot(gs[1, 0],\n",
    "          xscale='linear', yscale='linear',\n",
    "          frameon=False, xticks=[], yticks=[])\n",
    "\n",
    "x = tsnedat['TSNE1']\n",
    "y = tsnedat['TSNE2']\n",
    "\n",
    "\n",
    "curr_filter = normal_filter\n",
    "\n",
    "\n",
    "ax.scatter(x[curr_filter], y[curr_filter],\n",
    "          facecolor=cell_tableau10_color[curr_filter.values],\n",
    "           edgecolor='none',\n",
    "           rasterized=True, s=2)\n",
    "\n",
    "curr_filter = activity_filter\n",
    "ax.scatter(x[curr_filter], y[curr_filter],\n",
    "          facecolor=cell_tableau10_color[curr_filter.values],\n",
    "          edgecolor=activity_color[curr_filter.values], linewidth=0.33,\n",
    "           rasterized=False, s=2)\n",
    "\n",
    "\n",
    "curr_filter = doublet_filter | activity_and_doublet_filter\n",
    "ax.scatter(x[curr_filter], y[curr_filter],\n",
    "          c=doublet_color,\n",
    "          edgecolor='none', marker='x', linewidth=0.4,\n",
    "          s=1)\n",
    "\n",
    "curr_filter = activity_and_doublet_filter\n",
    "ax.scatter(x[curr_filter], y[curr_filter],\n",
    "          facecolor='none',\n",
    "          edgecolor=activity_color[curr_filter.values], linewidth=0.33,\n",
    "           rasterized=False, s=2)\n",
    "\n",
    "\n",
    "ax = fig.add_subplot(gs[0, 0],\n",
    "          frameon=False, xticks=[], yticks=[], xlim=[0,1], ylim=[0,1])\n",
    "\n",
    "ax.text(0.50, 0.5, 'Simulation overview', va='center', ha='center', fontsize=9, fontdict=dict(weight='bold'),\n",
    "        clip_on=False)\n",
    "\n",
    "\n",
    "ax = fig.add_subplot(gs[2, 0],\n",
    "          frameon=False, xticks=[], yticks=[], xlim=[0,1], ylim=[0,1])\n",
    "\n",
    "ax.text(0.50, 0.9, '%d cell identity programs' % identityK, va='center', ha='center', fontsize=7,\n",
    "        clip_on=False)\n",
    "\n",
    "leg_x = np.arange(identityK)/18\n",
    "leg_x -= leg_x.mean()\n",
    "leg_x += 0.5\n",
    "\n",
    "ax.scatter(leg_x, np.ones(identityK)*0.65, c=np.array(palettable.tableau.Tableau_10.colors[:identityK])/255, s=3)\n",
    "\n",
    "\n",
    "\n",
    "activity_y = 0.30\n",
    "ax.text(0.33, activity_y, '  activity', verticalalignment='center', ha='center', fontsize=7,\n",
    "        clip_on=False)\n",
    "\n",
    "ax.scatter([0.21], [activity_y], \n",
    "           facecolor='none', edgecolor='k', linewidth=0.8, s=4)\n",
    "\n",
    "\n",
    "doub_y = activity_y\n",
    "ax.text(0.66, doub_y, '     doublets', verticalalignment='center', ha='center', fontsize=7,\n",
    "        clip_on=False)\n",
    "\n",
    "ax.scatter([0.54], [doub_y], c=[doublet_color],\n",
    "           edgecolor='none', marker='x', linewidth=0.8, s=4, clip_on=False)\n",
    "\n",
    "ax.set_xlim([0,1])\n",
    "ax.set_ylim([0,1])"
   ]
  },
  {
   "cell_type": "code",
   "execution_count": null,
   "metadata": {},
   "outputs": [],
   "source": [
    "tsne_and_usages = pd.merge(left=normalized_usage_matrix, right=tsne_results, left_index=True, right_index=True)\n",
    "tsne_and_usages.head()"
   ]
  },
  {
   "cell_type": "code",
   "execution_count": null,
   "metadata": {},
   "outputs": [],
   "source": [
    "tsne_and_usages.columns"
   ]
  },
  {
   "cell_type": "code",
   "execution_count": null,
   "metadata": {},
   "outputs": [],
   "source": [
    "cmap = palettable.cartocolors.sequential.Sunset_7.get_mpl_colormap()\n",
    "\n",
    "(fig,axes) = plt.subplots(3,3, figsize=(5,4), dpi=400)\n",
    "axes = axes.ravel()\n",
    "for i in range(1, selected_K+1):\n",
    "    sc = axes[i-1].scatter(tsne_and_usages['TSNE1'], tsne_and_usages['TSNE2'], c=tsne_and_usages[i],\n",
    "                      cmap=cmap, vmin=0, vmax=1.,\n",
    "                      s=2, edgecolor='none', rasterized=True)\n",
    "    axes[i-1].set_title(i)\n",
    "    axes[i-1].set_xticks([])\n",
    "    axes[i-1].set_yticks([])\n",
    "    \n",
    "    \n",
    "    \n",
    "plt.tight_layout()\n",
    "cbarax = fig.add_axes([1,.7,.02, .2])\n",
    "plt.colorbar(sc, cax=cbarax)\n",
    "_ = plt.figtext(.45,1,'GEP Usage', fontsize=15)\n",
    "axes[-1].remove()\n",
    "axes[-2].remove()"
   ]
  },
  {
   "cell_type": "markdown",
   "metadata": {},
   "source": [
    "The plot above shows which cells are expressing which programs. Program 6 is distributed over cells of multiple identity programs and therefore corresponds to the activity program. GEP 1,2 3, 4, 5, 7 correspond to distinct identity programs"
   ]
  },
  {
   "cell_type": "markdown",
   "metadata": {},
   "source": [
    "## We might also want to investigate which genes are driving which programs. The top_genes ranks the genes most associated with each GEP (based on the spectra_scores)"
   ]
  },
  {
   "cell_type": "code",
   "execution_count": null,
   "metadata": {},
   "outputs": [],
   "source": [
    "topgenes.head(20)"
   ]
  },
  {
   "cell_type": "code",
   "execution_count": null,
   "metadata": {},
   "outputs": [],
   "source": []
  },
  {
   "cell_type": "code",
   "execution_count": null,
   "metadata": {},
   "outputs": [],
   "source": []
  }
 ],
 "metadata": {
  "kernelspec": {
   "display_name": "cnmf",
   "language": "python",
   "name": "cnmf"
  },
  "language_info": {
   "codemirror_mode": {
    "name": "ipython",
    "version": 3
   },
   "file_extension": ".py",
   "mimetype": "text/x-python",
   "name": "python",
   "nbconvert_exporter": "python",
   "pygments_lexer": "ipython3",
   "version": "3.10.4"
  }
 },
 "nbformat": 4,
 "nbformat_minor": 4
}
